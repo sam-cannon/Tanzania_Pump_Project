{
 "cells": [
  {
   "cell_type": "markdown",
   "metadata": {
    "slideshow": {
     "slide_type": "slide"
    }
   },
   "source": [
    "# \"Pumping It Up\" Predicting Failing Wells\n",
    "- Sam Cannon"
   ]
  },
  {
   "cell_type": "markdown",
   "metadata": {
    "slideshow": {
     "slide_type": "slide"
    }
   },
   "source": [
    "Your goal is to predict the operating condition of a waterpoint for each record in the dataset. You are provided the following set of information about the waterpoints:\n",
    "\n",
    "- amount_tsh - Total static head (amount water available to waterpoint)\n",
    "- date_recorded - The date the row was entered\n",
    "- funder - Who funded the well\n",
    "- gps_height - Altitude of the well\n",
    "- installer - Organization that installed the well\n",
    "- longitude - GPS coordinate\n",
    "- latitude - GPS coordinate\n",
    "- wpt_name - Name of the waterpoint if there is one\n",
    "- num_private -\n",
    "- basin - Geographic water basin\n",
    "- subvillage - Geographic location\n",
    "- region - Geographic location\n",
    "- region_code - Geographic location (coded)\n",
    "- district_code - Geographic location (coded)\n",
    "- lga - Geographic location\n",
    "- ward - Geographic location\n",
    "- population - Population around the well\n",
    "- public_meeting - True/False\n",
    "- recorded_by - Group entering this row of data\n",
    "- scheme_management - Who operates the waterpoint\n",
    "- scheme_name - Who operates the waterpoint\n",
    "- permit - If the waterpoint is permitted\n",
    "- construction_year - Year the waterpoint was constructed\n",
    "- extraction_type - The kind of extraction the waterpoint uses\n",
    "- extraction_type_group - The kind of extraction the waterpoint uses\n",
    "- extraction_type_class - The kind of extraction the waterpoint uses\n",
    "- management - How the waterpoint is managed\n",
    "- management_group - How the waterpoint is managed\n",
    "- payment - What the water costs\n",
    "- payment_type - What the water costs\n",
    "- water_quality - The quality of the water\n",
    "- quality_group - The quality of the water\n",
    "- quantity - The quantity of water\n",
    "- quantity_group - The quantity of water\n",
    "- source - The source of the water\n",
    "- source_type - The source of the water\n",
    "- source_class - The source of the water\n",
    "- waterpoint_type - The kind of waterpoint\n",
    "- waterpoint_type_group - The kind of waterpoint"
   ]
  },
  {
   "cell_type": "markdown",
   "metadata": {},
   "source": [
    "# Importing Packages"
   ]
  },
  {
   "cell_type": "markdown",
   "metadata": {},
   "source": [
    "-  Pandas - allows us to play around with data frames\n",
    "-  Numpy - allows us to perform mathematical functions with the data, create numpy arrays (which are required in SciKitLearn)\n",
    "-  Matplotlib.pyplot - plotting package that we will not use, BUT YOU COULD! (you have to have %matplotlib inline, to show plots)\n",
    "-  Seaborn - seaborn is an advanced visualization package in Python\n",
    "-  OS - os allows us to see and change our working directory\n",
    "-  InteractiveShell - allows us to run multiple commands in the same cell \n",
    "-  pd.set_options - this allows us to see all of our columns and our rows if we want\n",
    "-  plotly - advanced visualization package (https://towardsdatascience.com/its-2019-make-your-data-visualizations-interactive-with-plotly-b361e7d45dc6)\n",
    "-  plotly_express - advanced viz package (same link above)\n",
    "-  cufflinks - advanced viz package (https://towardsdatascience.com/the-next-level-of-data-visualization-in-python-dd6e99039d5e)"
   ]
  },
  {
   "cell_type": "code",
   "execution_count": 70,
   "metadata": {},
   "outputs": [
    {
     "data": {
      "text/html": [
       "        <script type=\"text/javascript\">\n",
       "        window.PlotlyConfig = {MathJaxConfig: 'local'};\n",
       "        if (window.MathJax) {MathJax.Hub.Config({SVG: {font: \"STIX-Web\"}});}\n",
       "        if (typeof require !== 'undefined') {\n",
       "        require.undef(\"plotly\");\n",
       "        requirejs.config({\n",
       "            paths: {\n",
       "                'plotly': ['https://cdn.plot.ly/plotly-latest.min']\n",
       "            }\n",
       "        });\n",
       "        require(['plotly'], function(Plotly) {\n",
       "            window._Plotly = Plotly;\n",
       "        });\n",
       "        }\n",
       "        </script>\n",
       "        "
      ]
     },
     "metadata": {},
     "output_type": "display_data"
    },
    {
     "data": {
      "text/html": [
       "        <script type=\"text/javascript\">\n",
       "        window.PlotlyConfig = {MathJaxConfig: 'local'};\n",
       "        if (window.MathJax) {MathJax.Hub.Config({SVG: {font: \"STIX-Web\"}});}\n",
       "        if (typeof require !== 'undefined') {\n",
       "        require.undef(\"plotly\");\n",
       "        requirejs.config({\n",
       "            paths: {\n",
       "                'plotly': ['https://cdn.plot.ly/plotly-latest.min']\n",
       "            }\n",
       "        });\n",
       "        require(['plotly'], function(Plotly) {\n",
       "            window._Plotly = Plotly;\n",
       "        });\n",
       "        }\n",
       "        </script>\n",
       "        "
      ]
     },
     "metadata": {},
     "output_type": "display_data"
    }
   ],
   "source": [
    "import pandas as pd\n",
    "import numpy as np\n",
    "import os\n",
    "import seaborn as sns\n",
    "import matplotlib.pyplot as plt\n",
    "%matplotlib inline\n",
    "\n",
    "#lines below let allow multiple results from a line of code to be shown e.g. df.head() + df.columns\n",
    "from IPython.core.interactiveshell import InteractiveShell\n",
    "InteractiveShell.ast_node_interactivity = \"all\"\n",
    "\n",
    "#this allows us to see all of our columns or rows in jupyter notebook\n",
    "pd.set_option('display.max_columns', None)\n",
    "\n",
    "#plotly provides a robust library of interactive charts, where you can explore the data in numerous ways,\n",
    "import plotly.offline as py\n",
    "import plotly_express as px\n",
    "import plotly.graph_objs as go\n",
    "from plotly.offline import iplot, init_notebook_mode\n",
    "import cufflinks\n",
    "cufflinks.go_offline(connected=True)\n",
    "init_notebook_mode(connected=True)"
   ]
  },
  {
   "cell_type": "code",
   "execution_count": 71,
   "metadata": {},
   "outputs": [
    {
     "data": {
      "text/plain": [
       "'C:\\\\Users\\\\Sam Cannon\\\\Desktop\\\\Python\\\\Data Sets'"
      ]
     },
     "execution_count": 71,
     "metadata": {},
     "output_type": "execute_result"
    }
   ],
   "source": [
    "#check the working directory\n",
    "os.getcwd()\n",
    "#we need to change the working directory to wherever our data is stored\n",
    "os.chdir('C:\\\\Users\\\\Sam Cannon\\\\Desktop\\\\Python\\\\Data Sets')"
   ]
  },
  {
   "cell_type": "code",
   "execution_count": 72,
   "metadata": {},
   "outputs": [],
   "source": [
    "#import the train, test and label csv's from local storage\n",
    "train = pd.read_csv('WaterPumpTrain.csv')\n",
    "test = pd.read_csv('WaterPumpTest.csv')\n",
    "labels = pd.read_csv('waterPumpLabels.csv')"
   ]
  },
  {
   "cell_type": "code",
   "execution_count": 73,
   "metadata": {},
   "outputs": [],
   "source": [
    "#now our data is imported, we need to append the labels to the end of the train set, merging the data together on a \n",
    "# shared column, which in this case is id, ensures that our values match up\n",
    "train = train.merge(labels, on='id')"
   ]
  },
  {
   "cell_type": "code",
   "execution_count": 74,
   "metadata": {
    "scrolled": true
   },
   "outputs": [
    {
     "data": {
      "text/html": [
       "<div>\n",
       "<style scoped>\n",
       "    .dataframe tbody tr th:only-of-type {\n",
       "        vertical-align: middle;\n",
       "    }\n",
       "\n",
       "    .dataframe tbody tr th {\n",
       "        vertical-align: top;\n",
       "    }\n",
       "\n",
       "    .dataframe thead th {\n",
       "        text-align: right;\n",
       "    }\n",
       "</style>\n",
       "<table border=\"1\" class=\"dataframe\">\n",
       "  <thead>\n",
       "    <tr style=\"text-align: right;\">\n",
       "      <th></th>\n",
       "      <th>id</th>\n",
       "      <th>amount_tsh</th>\n",
       "      <th>date_recorded</th>\n",
       "      <th>funder</th>\n",
       "      <th>gps_height</th>\n",
       "      <th>installer</th>\n",
       "      <th>longitude</th>\n",
       "      <th>latitude</th>\n",
       "      <th>wpt_name</th>\n",
       "      <th>num_private</th>\n",
       "      <th>basin</th>\n",
       "      <th>subvillage</th>\n",
       "      <th>region</th>\n",
       "      <th>region_code</th>\n",
       "      <th>district_code</th>\n",
       "      <th>lga</th>\n",
       "      <th>ward</th>\n",
       "      <th>population</th>\n",
       "      <th>public_meeting</th>\n",
       "      <th>recorded_by</th>\n",
       "      <th>scheme_management</th>\n",
       "      <th>scheme_name</th>\n",
       "      <th>permit</th>\n",
       "      <th>construction_year</th>\n",
       "      <th>extraction_type</th>\n",
       "      <th>extraction_type_group</th>\n",
       "      <th>extraction_type_class</th>\n",
       "      <th>management</th>\n",
       "      <th>management_group</th>\n",
       "      <th>payment</th>\n",
       "      <th>payment_type</th>\n",
       "      <th>water_quality</th>\n",
       "      <th>quality_group</th>\n",
       "      <th>quantity</th>\n",
       "      <th>quantity_group</th>\n",
       "      <th>source</th>\n",
       "      <th>source_type</th>\n",
       "      <th>source_class</th>\n",
       "      <th>waterpoint_type</th>\n",
       "      <th>waterpoint_type_group</th>\n",
       "      <th>status_group</th>\n",
       "    </tr>\n",
       "  </thead>\n",
       "  <tbody>\n",
       "    <tr>\n",
       "      <th>0</th>\n",
       "      <td>69572</td>\n",
       "      <td>6000.0</td>\n",
       "      <td>3/14/2011</td>\n",
       "      <td>Roman</td>\n",
       "      <td>1390</td>\n",
       "      <td>Roman</td>\n",
       "      <td>34.938093</td>\n",
       "      <td>-9.856322</td>\n",
       "      <td>none</td>\n",
       "      <td>0</td>\n",
       "      <td>Lake Nyasa</td>\n",
       "      <td>Mnyusi B</td>\n",
       "      <td>Iringa</td>\n",
       "      <td>11</td>\n",
       "      <td>5</td>\n",
       "      <td>Ludewa</td>\n",
       "      <td>Mundindi</td>\n",
       "      <td>109</td>\n",
       "      <td>True</td>\n",
       "      <td>GeoData Consultants Ltd</td>\n",
       "      <td>VWC</td>\n",
       "      <td>Roman</td>\n",
       "      <td>False</td>\n",
       "      <td>1999</td>\n",
       "      <td>gravity</td>\n",
       "      <td>gravity</td>\n",
       "      <td>gravity</td>\n",
       "      <td>vwc</td>\n",
       "      <td>user-group</td>\n",
       "      <td>pay annually</td>\n",
       "      <td>annually</td>\n",
       "      <td>soft</td>\n",
       "      <td>good</td>\n",
       "      <td>enough</td>\n",
       "      <td>enough</td>\n",
       "      <td>spring</td>\n",
       "      <td>spring</td>\n",
       "      <td>groundwater</td>\n",
       "      <td>communal standpipe</td>\n",
       "      <td>communal standpipe</td>\n",
       "      <td>functional</td>\n",
       "    </tr>\n",
       "  </tbody>\n",
       "</table>\n",
       "</div>"
      ],
      "text/plain": [
       "      id  amount_tsh date_recorded funder  gps_height installer  longitude  \\\n",
       "0  69572      6000.0     3/14/2011  Roman        1390     Roman  34.938093   \n",
       "\n",
       "   latitude wpt_name  num_private       basin subvillage  region  region_code  \\\n",
       "0 -9.856322     none            0  Lake Nyasa   Mnyusi B  Iringa           11   \n",
       "\n",
       "   district_code     lga      ward  population public_meeting  \\\n",
       "0              5  Ludewa  Mundindi         109           True   \n",
       "\n",
       "               recorded_by scheme_management scheme_name permit  \\\n",
       "0  GeoData Consultants Ltd               VWC       Roman  False   \n",
       "\n",
       "   construction_year extraction_type extraction_type_group  \\\n",
       "0               1999         gravity               gravity   \n",
       "\n",
       "  extraction_type_class management management_group       payment  \\\n",
       "0               gravity        vwc       user-group  pay annually   \n",
       "\n",
       "  payment_type water_quality quality_group quantity quantity_group  source  \\\n",
       "0     annually          soft          good   enough         enough  spring   \n",
       "\n",
       "  source_type source_class     waterpoint_type waterpoint_type_group  \\\n",
       "0      spring  groundwater  communal standpipe    communal standpipe   \n",
       "\n",
       "  status_group  \n",
       "0   functional  "
      ]
     },
     "execution_count": 74,
     "metadata": {},
     "output_type": "execute_result"
    }
   ],
   "source": [
    "#lets check to see if it worked how we wanted it to, status_group (our labels) is our last column now\n",
    "train.head(1)"
   ]
  },
  {
   "cell_type": "code",
   "execution_count": 75,
   "metadata": {},
   "outputs": [
    {
     "name": "stdout",
     "output_type": "stream",
     "text": [
      "<class 'pandas.core.frame.DataFrame'>\n",
      "Int64Index: 59400 entries, 0 to 59399\n",
      "Data columns (total 41 columns):\n",
      "id                       59400 non-null int64\n",
      "amount_tsh               59400 non-null float64\n",
      "date_recorded            59400 non-null object\n",
      "funder                   55765 non-null object\n",
      "gps_height               59400 non-null int64\n",
      "installer                55745 non-null object\n",
      "longitude                59400 non-null float64\n",
      "latitude                 59400 non-null float64\n",
      "wpt_name                 59400 non-null object\n",
      "num_private              59400 non-null int64\n",
      "basin                    59400 non-null object\n",
      "subvillage               59029 non-null object\n",
      "region                   59400 non-null object\n",
      "region_code              59400 non-null int64\n",
      "district_code            59400 non-null int64\n",
      "lga                      59400 non-null object\n",
      "ward                     59400 non-null object\n",
      "population               59400 non-null int64\n",
      "public_meeting           56066 non-null object\n",
      "recorded_by              59400 non-null object\n",
      "scheme_management        55523 non-null object\n",
      "scheme_name              31234 non-null object\n",
      "permit                   56344 non-null object\n",
      "construction_year        59400 non-null int64\n",
      "extraction_type          59400 non-null object\n",
      "extraction_type_group    59400 non-null object\n",
      "extraction_type_class    59400 non-null object\n",
      "management               59400 non-null object\n",
      "management_group         59400 non-null object\n",
      "payment                  59400 non-null object\n",
      "payment_type             59400 non-null object\n",
      "water_quality            59400 non-null object\n",
      "quality_group            59400 non-null object\n",
      "quantity                 59400 non-null object\n",
      "quantity_group           59400 non-null object\n",
      "source                   59400 non-null object\n",
      "source_type              59400 non-null object\n",
      "source_class             59400 non-null object\n",
      "waterpoint_type          59400 non-null object\n",
      "waterpoint_type_group    59400 non-null object\n",
      "status_group             59400 non-null object\n",
      "dtypes: float64(3), int64(7), object(31)\n",
      "memory usage: 19.0+ MB\n"
     ]
    }
   ],
   "source": [
    "#look at overall stats for features, note which ones are objects and which ones are floats or integers\n",
    "train.info()"
   ]
  },
  {
   "cell_type": "code",
   "execution_count": 8,
   "metadata": {},
   "outputs": [
    {
     "data": {
      "text/plain": [
       "id                           0\n",
       "amount_tsh                   0\n",
       "date_recorded                0\n",
       "funder                    3635\n",
       "gps_height                   0\n",
       "installer                 3655\n",
       "longitude                    0\n",
       "latitude                     0\n",
       "wpt_name                     0\n",
       "num_private                  0\n",
       "basin                        0\n",
       "subvillage                 371\n",
       "region                       0\n",
       "region_code                  0\n",
       "district_code                0\n",
       "lga                          0\n",
       "ward                         0\n",
       "population                   0\n",
       "public_meeting            3334\n",
       "recorded_by                  0\n",
       "scheme_management         3877\n",
       "scheme_name              28166\n",
       "permit                    3056\n",
       "construction_year            0\n",
       "extraction_type              0\n",
       "extraction_type_group        0\n",
       "extraction_type_class        0\n",
       "management                   0\n",
       "management_group             0\n",
       "payment                      0\n",
       "payment_type                 0\n",
       "water_quality                0\n",
       "quality_group                0\n",
       "quantity                     0\n",
       "quantity_group               0\n",
       "source                       0\n",
       "source_type                  0\n",
       "source_class                 0\n",
       "waterpoint_type              0\n",
       "waterpoint_type_group        0\n",
       "status_group                 0\n",
       "dtype: int64"
      ]
     },
     "execution_count": 8,
     "metadata": {},
     "output_type": "execute_result"
    }
   ],
   "source": [
    "#the first thing that we are looking at is missing values\n",
    "train.isna().sum()"
   ]
  },
  {
   "cell_type": "code",
   "execution_count": 9,
   "metadata": {},
   "outputs": [
    {
     "data": {
      "text/plain": [
       "id                           1\n",
       "amount_tsh               41639\n",
       "date_recorded                0\n",
       "funder                       0\n",
       "gps_height               20438\n",
       "installer                    0\n",
       "longitude                 1812\n",
       "latitude                     0\n",
       "wpt_name                     0\n",
       "num_private              58643\n",
       "basin                        0\n",
       "subvillage                   0\n",
       "region                       0\n",
       "region_code                  0\n",
       "district_code               23\n",
       "lga                          0\n",
       "ward                         0\n",
       "population               21381\n",
       "public_meeting            5055\n",
       "recorded_by                  0\n",
       "scheme_management            0\n",
       "scheme_name                  0\n",
       "permit                   17492\n",
       "construction_year        20709\n",
       "extraction_type              0\n",
       "extraction_type_group        0\n",
       "extraction_type_class        0\n",
       "management                   0\n",
       "management_group             0\n",
       "payment                      0\n",
       "payment_type                 0\n",
       "water_quality                0\n",
       "quality_group                0\n",
       "quantity                     0\n",
       "quantity_group               0\n",
       "source                       0\n",
       "source_type                  0\n",
       "source_class                 0\n",
       "waterpoint_type              0\n",
       "waterpoint_type_group        0\n",
       "status_group                 0\n",
       "dtype: int64"
      ]
     },
     "execution_count": 9,
     "metadata": {},
     "output_type": "execute_result"
    }
   ],
   "source": [
    "#we also have a lot of data in this set who's values are '0', lets see all of these counts, then lets replace them with \n",
    "#np.nan\n",
    "########BE CAREFUL HERE, NOTE THAT PLACING 0 IN THE SUBSET HERE WOULD ALSO CODE VALUES OF 'FALSE' AS 0, AND WE DONT WANT\n",
    "########## TO REPLACE FALSE VALUES!!! DO NOT INCLUDE PERMIT OR PUBLIC MEETING IN NAN REPLACEMENT IN THE CELL BELOW\n",
    "train[train == 0].count()"
   ]
  },
  {
   "cell_type": "markdown",
   "metadata": {},
   "source": [
    "# Removing Redundant and Highly Unique Features"
   ]
  },
  {
   "cell_type": "markdown",
   "metadata": {},
   "source": [
    "__We will begin by removing features that are duplicates, and then we will remove features that are highly unique, since we must keep our dummy variable count below our sample size and these unique features may not be lending much information on the variability between pump status_group__"
   ]
  },
  {
   "cell_type": "code",
   "execution_count": 10,
   "metadata": {},
   "outputs": [
    {
     "data": {
      "text/plain": [
       "waterpoint_type              waterpoint_type_group\n",
       "cattle trough                cattle trough              116\n",
       "communal standpipe           communal standpipe       28522\n",
       "communal standpipe multiple  communal standpipe        6103\n",
       "dam                          dam                          7\n",
       "hand pump                    hand pump                17488\n",
       "improved spring              improved spring            784\n",
       "other                        other                     6380\n",
       "dtype: int64"
      ]
     },
     "execution_count": 10,
     "metadata": {},
     "output_type": "execute_result"
    }
   ],
   "source": [
    "#there seem to be several features that are redundant here, lets remove those that are essentially direct copies or similar \n",
    "#lets start with waterpoint features\n",
    "train.groupby(['waterpoint_type', 'waterpoint_type_group']).size()\n",
    "#looks like we can remove either one since they are copies"
   ]
  },
  {
   "cell_type": "code",
   "execution_count": 11,
   "metadata": {},
   "outputs": [
    {
     "data": {
      "text/plain": [
       "source_class  source_type           source              \n",
       "groundwater   borehole              hand dtw                  874\n",
       "                                    machine dbh             11075\n",
       "              shallow well          shallow well            16824\n",
       "              spring                spring                  17021\n",
       "surface       dam                   dam                       656\n",
       "              rainwater harvesting  rainwater harvesting     2295\n",
       "              river/lake            lake                      765\n",
       "                                    river                    9612\n",
       "unknown       other                 other                     212\n",
       "                                    unknown                    66\n",
       "dtype: int64"
      ]
     },
     "execution_count": 11,
     "metadata": {},
     "output_type": "execute_result"
    }
   ],
   "source": [
    "#lets look at the source features\n",
    "train.groupby(['source_class', 'source_type', 'source']).size()\n",
    "#looks like we can retain any of them to represent the other two, lets keep source since it gives us more info without\n",
    "# a ton of categories"
   ]
  },
  {
   "cell_type": "code",
   "execution_count": 12,
   "metadata": {},
   "outputs": [
    {
     "data": {
      "text/plain": [
       "quantity      quantity_group\n",
       "dry           dry                6246\n",
       "enough        enough            33186\n",
       "insufficient  insufficient      15129\n",
       "seasonal      seasonal           4050\n",
       "unknown       unknown             789\n",
       "dtype: int64"
      ]
     },
     "execution_count": 12,
     "metadata": {},
     "output_type": "execute_result"
    }
   ],
   "source": [
    "#lets look at the quantity features\n",
    "train.groupby(['quantity', 'quantity_group']).size()\n",
    "#these are copies, we can remove one"
   ]
  },
  {
   "cell_type": "code",
   "execution_count": 13,
   "metadata": {},
   "outputs": [
    {
     "data": {
      "text/plain": [
       "quality_group  water_quality     \n",
       "colored        coloured                490\n",
       "fluoride       fluoride                200\n",
       "               fluoride abandoned       17\n",
       "good           soft                  50818\n",
       "milky          milky                   804\n",
       "salty          salty                  4856\n",
       "               salty abandoned         339\n",
       "unknown        unknown                1876\n",
       "dtype: int64"
      ]
     },
     "execution_count": 13,
     "metadata": {},
     "output_type": "execute_result"
    }
   ],
   "source": [
    "#lets look at quality features\n",
    "train.groupby(['quality_group', 'water_quality']).size()\n",
    "#looks like we can use the water_quality feature to represent quality with a good number of categories, capturing more info"
   ]
  },
  {
   "cell_type": "code",
   "execution_count": 14,
   "metadata": {},
   "outputs": [
    {
     "data": {
      "text/plain": [
       "payment_type  payment              \n",
       "annually      pay annually              3642\n",
       "monthly       pay monthly               8300\n",
       "never pay     never pay                25348\n",
       "on failure    pay when scheme fails     3914\n",
       "other         other                     1054\n",
       "per bucket    pay per bucket            8985\n",
       "unknown       unknown                   8157\n",
       "dtype: int64"
      ]
     },
     "execution_count": 14,
     "metadata": {},
     "output_type": "execute_result"
    }
   ],
   "source": [
    "#lets look at the payment feature\n",
    "train.groupby(['payment_type', 'payment']).size()\n",
    "#looks like we can remove either since they are direct copies"
   ]
  },
  {
   "cell_type": "code",
   "execution_count": 15,
   "metadata": {},
   "outputs": [
    {
     "data": {
      "text/plain": [
       "management_group  management      \n",
       "commercial        company               685\n",
       "                  private operator     1971\n",
       "                  trust                  78\n",
       "                  water authority       904\n",
       "other             other                 844\n",
       "                  other - school         99\n",
       "parastatal        parastatal           1768\n",
       "unknown           unknown               561\n",
       "user-group        vwc                 40507\n",
       "                  water board          2933\n",
       "                  wua                  2535\n",
       "                  wug                  6515\n",
       "dtype: int64"
      ]
     },
     "execution_count": 15,
     "metadata": {},
     "output_type": "execute_result"
    }
   ],
   "source": [
    "#lets look at the management features\n",
    "train.groupby(['management_group', 'management']).size()\n",
    "#looks like we can retian management_group and have less categories or take management and have a little more info, still\n",
    "#without an overwhelming amount of categories, lets take management to see if we can increase predictive ability with \n",
    "#that little bit of more info"
   ]
  },
  {
   "cell_type": "code",
   "execution_count": 16,
   "metadata": {},
   "outputs": [
    {
     "data": {
      "text/plain": [
       "extraction_type_class  extraction_type_group  extraction_type          \n",
       "gravity                gravity                gravity                      26780\n",
       "handpump               afridev                afridev                       1770\n",
       "                       india mark ii          india mark ii                 2400\n",
       "                       india mark iii         india mark iii                  98\n",
       "                       nira/tanira            nira/tanira                   8154\n",
       "                       other handpump         other - mkulima/shinyanga        2\n",
       "                                              other - play pump               85\n",
       "                                              other - swn 81                 229\n",
       "                                              walimi                          48\n",
       "                       swn 80                 swn 80                        3670\n",
       "motorpump              mono                   mono                          2865\n",
       "                       other motorpump        cemo                            90\n",
       "                                              climax                          32\n",
       "other                  other                  other                         6430\n",
       "rope pump              rope pump              other - rope pump              451\n",
       "submersible            submersible            ksb                           1415\n",
       "                                              submersible                   4764\n",
       "wind-powered           wind-powered           windmill                       117\n",
       "dtype: int64"
      ]
     },
     "execution_count": 16,
     "metadata": {},
     "output_type": "execute_result"
    }
   ],
   "source": [
    "#lets look at extraction features now \n",
    "train.groupby(['extraction_type_class', 'extraction_type_group', 'extraction_type']).size()\n",
    "#looks like we could retain extraction_type_class and have less categories to deal with or go with extraction_type and have\n",
    "#more info, but more categories...lets keep extraction_type"
   ]
  },
  {
   "cell_type": "code",
   "execution_count": 17,
   "metadata": {},
   "outputs": [
    {
     "data": {
      "text/plain": [
       "scheme_management  scheme_name                   management      \n",
       "Company            BFFS                          company               1\n",
       "                   Bagamoyo Wate                 company               5\n",
       "                                                 parastatal            3\n",
       "                                                 private operator     49\n",
       "                                                 vwc                   3\n",
       "                   Bagamoyo wate                 other                 2\n",
       "                                                 parastatal           18\n",
       "                                                 private operator    153\n",
       "                                                 vwc                  37\n",
       "                   Borehole                      vwc                   1\n",
       "                   Borehole drilling project     vwc                   1\n",
       "                   Bulamba piped scheme          company               2\n",
       "                   Burieni water supply          company               1\n",
       "                   Doe water supply              company               3\n",
       "                   EKTM 2 water  supply          company               1\n",
       "                   EKTM 2 water suply            company              25\n",
       "                   EKTM 2 water supply           company               9\n",
       "                   EKTM 3 water supply           company              51\n",
       "                   Fufulamsuri water supply      company               1\n",
       "                   GRUMETI                       company               6\n",
       "                   HESAWA                        private operator      1\n",
       "                   Hakwe water supply            company              10\n",
       "                   Holili water supply           company              23\n",
       "                   I                             company               1\n",
       "                   IKTM 2                        company               1\n",
       "                   IKTM 2 water supply           company               1\n",
       "                   IKTM 3 water supply           company               1\n",
       "                   Ibukoni kimanga water supply  company               1\n",
       "                   Iburieni water supply         company               6\n",
       "                   Ihum                          company               1\n",
       "                                                                    ... \n",
       "Water authority    Suwasa water supply           vwc                   1\n",
       "                                                 water authority       5\n",
       "                   TWESA                         vwc                   1\n",
       "                   Tank fu Mwenge                water authority       1\n",
       "                   Tank fupi Mwenge              water authority       8\n",
       "                   Tank refu Kasokola            other                 1\n",
       "                                                 water authority       3\n",
       "                   Tank refu Mtakuja             water authority       6\n",
       "                   Tank refu Sitalike            water authority       7\n",
       "                   Tungu water piped scheme      water authority       1\n",
       "                   Tutu                          private operator      2\n",
       "                                                 vwc                  22\n",
       "                                                 wug                   1\n",
       "                   UWAMAMA                       vwc                   4\n",
       "                   Urambo water supply           water authority      15\n",
       "                   Vumari water supply           vwc                  11\n",
       "                   Vunta water supply            private operator      1\n",
       "                                                 vwc                  10\n",
       "                   WD                            vwc                   1\n",
       "                   Water from DAWASCO            private operator     19\n",
       "                                                 trust                 6\n",
       "                                                 vwc                   3\n",
       "                   World Bank                    vwc                  60\n",
       "                   World Vision                  vwc                   8\n",
       "                   World vision                  vwc                   1\n",
       "                   Yongoma                       vwc                  16\n",
       "                   Zepalama                      vwc                   5\n",
       "                   no scheme                     water authority       9\n",
       "                   pump                          water authority       2\n",
       "                   water supply at Kalebejo      water board           1\n",
       "Length: 3381, dtype: int64"
      ]
     },
     "execution_count": 17,
     "metadata": {},
     "output_type": "execute_result"
    }
   ],
   "source": [
    "#lets look at the scheme features now\n",
    "train.groupby(['scheme_management', 'scheme_name', 'management']).size()"
   ]
  },
  {
   "cell_type": "code",
   "execution_count": 18,
   "metadata": {
    "scrolled": false
   },
   "outputs": [
    {
     "data": {
      "text/plain": [
       "scheme_name                  status_group           \n",
       "14 Kambarage                 functional                   7\n",
       "A                            functional                  23\n",
       "                             functional needs repair      2\n",
       "                             non functional              17\n",
       "ADP                          functional                   6\n",
       "                             non functional               3\n",
       "ADP Simbo                    functional                  15\n",
       "                             non functional              10\n",
       "ADP Simbu                    non functional               1\n",
       "ADRA                         functional                   7\n",
       "                             non functional               1\n",
       "AIC                          functional                   1\n",
       "AIC kahunda                  functional                   1\n",
       "AMREF                        non functional               3\n",
       "AMRSF                        non functional               1\n",
       "AUWASA Pipe scheme           functional                   4\n",
       "AUWASA pipe scheme           functional                   6\n",
       "Adra                         functional                   1\n",
       "African Barrick Gold         functional                   1\n",
       "Akheri gravity water supply  functional                   8\n",
       "                             functional needs repair      2\n",
       "                             non functional               3\n",
       "Alpha crust                  functional                   1\n",
       "                             functional needs repair      1\n",
       "Amani Water Supply           functional needs repair     11\n",
       "Amani spring                 functional                  23\n",
       "                             non functional               2\n",
       "Anglic                       functional                  22\n",
       "                             non functional               2\n",
       "Araa                         non functional               2\n",
       "                                                       ... \n",
       "sakalenga water supply sche  functional                  14\n",
       "shallow well                 functional                  19\n",
       "                             non functional              10\n",
       "tove mtwango water supply s  functional                   2\n",
       "tove-mtwango                 functional                   1\n",
       "upper Ruv                    functional                   2\n",
       "upper Ruvu                   functional                  53\n",
       "                             non functional              38\n",
       "upper Ruvuv                  functional                   1\n",
       "upper ruvu                   functional                   1\n",
       "v                            functional                   1\n",
       "villagers                    functional                   1\n",
       "wananc                       functional                   2\n",
       "                             functional needs repair      1\n",
       "wangama water supply scheme  functional                  25\n",
       "                             non functional               3\n",
       "wanging'ombe supply scheme   functional                 146\n",
       "                             functional needs repair     24\n",
       "                             non functional              64\n",
       "wanging'ombe water supply s  functional                 165\n",
       "                             functional needs repair     47\n",
       "                             non functional              49\n",
       "wanginyi water supplied sch  functional                  16\n",
       "water supply Katungulu       non functional               1\n",
       "water supply at Kalebejo     non functional               1\n",
       "water supply at Nyakasungwa  functional                   2\n",
       "                             non functional               3\n",
       "water supply in Mwanza       functional                   1\n",
       "water supply in katungulu    functional                   2\n",
       "                             non functional               7\n",
       "Length: 4197, dtype: int64"
      ]
     },
     "execution_count": 18,
     "metadata": {},
     "output_type": "execute_result"
    }
   ],
   "source": [
    "train.groupby(['scheme_name', 'status_group']).size()\n",
    "#maybe we should keep scheme_name, there are some that are more represented than others, potential for increased predictive\n",
    "# power, we can drop scheme_management, it has missingness and is about the \n",
    "#same as managemen"
   ]
  },
  {
   "cell_type": "code",
   "execution_count": 19,
   "metadata": {},
   "outputs": [
    {
     "data": {
      "text/plain": [
       "lga           ward         \n",
       "Arusha Rural  Bangata           33\n",
       "              Bwawani           37\n",
       "              Ilkiding'a        86\n",
       "              Kimnyaki          79\n",
       "              Kiranyi          115\n",
       "              Kisongo           33\n",
       "              Mateves           22\n",
       "              Mlangarini        92\n",
       "              Moivo             44\n",
       "              Moshono           44\n",
       "              Murieti           29\n",
       "              Musa              29\n",
       "              Mwandeti          17\n",
       "              Nduruma          205\n",
       "              Oldonyosambu      77\n",
       "              Oljoro             8\n",
       "              Olkokola         133\n",
       "              Oltroto           75\n",
       "              Oltrumet          52\n",
       "              Sokoni II         42\n",
       "Arusha Urban  Baraa              2\n",
       "              Daraja Mbili       3\n",
       "              Elerai            11\n",
       "              Engutoto           1\n",
       "              Kaloleni           5\n",
       "              Kimandolu          2\n",
       "              Lemara             4\n",
       "              Levolosi           2\n",
       "              Ngarenaro          3\n",
       "              Olorien            4\n",
       "                              ... \n",
       "Urambo        Mwongozo          16\n",
       "              Songambele        28\n",
       "              Ugunga             7\n",
       "              Ukondamoyo         7\n",
       "              Ukumbisiganga     13\n",
       "              Urambo            28\n",
       "              Ushokola           5\n",
       "              Usinge             8\n",
       "              Usisya            13\n",
       "              Ussoke            11\n",
       "              Uyowa              6\n",
       "              Uyumbu            32\n",
       "              Vumilia            6\n",
       "Uyui          Bukumbi           20\n",
       "              Goweko            18\n",
       "              Ibiri             37\n",
       "              Igalula           46\n",
       "              Ikongolo          11\n",
       "              Ilolangulu        40\n",
       "              Isikizya          29\n",
       "              Kizengi           13\n",
       "              Loya              10\n",
       "              Lutende            6\n",
       "              Mabama            25\n",
       "              Magiri            10\n",
       "              Ndono             12\n",
       "              Shitage            3\n",
       "              Ufuluma           16\n",
       "              Upuge             18\n",
       "              Usagali           25\n",
       "Length: 2191, dtype: int64"
      ]
     },
     "execution_count": 19,
     "metadata": {},
     "output_type": "execute_result"
    }
   ],
   "source": [
    "#now lets look at lga and ward\n",
    "train.groupby(['lga', 'ward']).size()\n",
    "#lets drop ward, lga represents the area, we have region as well as basin, so the location of the well is well represented\n",
    "#in our other features, we also have the district code, so this seems like it would be adding minimal value"
   ]
  },
  {
   "cell_type": "code",
   "execution_count": 20,
   "metadata": {},
   "outputs": [
    {
     "data": {
      "text/plain": [
       "region_code  district_code\n",
       "1            0                  23\n",
       "             1                 888\n",
       "             3                 361\n",
       "             4                 347\n",
       "             5                 358\n",
       "             6                 224\n",
       "2            1                 189\n",
       "             2                1206\n",
       "             3                 109\n",
       "             5                 201\n",
       "             6                 310\n",
       "             7                1009\n",
       "3            1                 595\n",
       "             2                 519\n",
       "             3                 877\n",
       "             4                1225\n",
       "             5                 620\n",
       "             6                 109\n",
       "             7                 434\n",
       "4            1                 698\n",
       "             2                 408\n",
       "             3                 323\n",
       "             4                 110\n",
       "             5                 293\n",
       "             6                 266\n",
       "             7                 127\n",
       "             8                 288\n",
       "5            1                1128\n",
       "             2                 521\n",
       "             3                 997\n",
       "                              ... \n",
       "19           5                 332\n",
       "             6                 488\n",
       "             7                 347\n",
       "             8                 132\n",
       "20           1                 171\n",
       "             2                 716\n",
       "             3                 396\n",
       "             4                 438\n",
       "             6                 248\n",
       "21           1                 550\n",
       "             2                 274\n",
       "             3                 297\n",
       "             4                 276\n",
       "             5                 186\n",
       "24           30                326\n",
       "40           43                  1\n",
       "60           33                115\n",
       "             43                350\n",
       "             53                454\n",
       "             60                 63\n",
       "             63                 37\n",
       "             67                  6\n",
       "80           13                391\n",
       "             23                293\n",
       "             43                154\n",
       "             53                291\n",
       "             62                109\n",
       "90           33                759\n",
       "             63                158\n",
       "99           1                 423\n",
       "Length: 130, dtype: int64"
      ]
     },
     "execution_count": 20,
     "metadata": {},
     "output_type": "execute_result"
    }
   ],
   "source": [
    "#lets look at coding\n",
    "train.groupby(['region_code', 'district_code']).size()"
   ]
  },
  {
   "cell_type": "code",
   "execution_count": 21,
   "metadata": {},
   "outputs": [],
   "source": [
    "#region and region_code are redundant, with one you have the other, lets drop region code, keep district_code"
   ]
  },
  {
   "cell_type": "code",
   "execution_count": 22,
   "metadata": {},
   "outputs": [
    {
     "data": {
      "text/plain": [
       "basin        subvillage        \n",
       "Internal     Abdujumbe              3\n",
       "             Afandi                 2\n",
       "             Ahara                  1\n",
       "             Aicho Kaskazini        1\n",
       "             Aicho Kusini           1\n",
       "             Alagwa                 5\n",
       "             Alairataat             3\n",
       "             Alakirikir             4\n",
       "             Alasai                 1\n",
       "             Aleilelai              4\n",
       "             Alsini                 2\n",
       "             Amani                  3\n",
       "             Ambara                 1\n",
       "             Ampa                   2\n",
       "             Angweduru A            1\n",
       "             Ansi                   2\n",
       "             Ants A                 4\n",
       "             Ants B                 3\n",
       "             Araa                   1\n",
       "             Araa Mkunjo            1\n",
       "             Arahati                4\n",
       "             Arati                  5\n",
       "             Ariahati               1\n",
       "             Arii                   1\n",
       "             Arkaria                5\n",
       "             Arri                   4\n",
       "             Ascarida               1\n",
       "             Athin Kati             1\n",
       "             Athni Mwisho           1\n",
       "             Atlaa                  2\n",
       "                                   ..\n",
       "Wami / Ruvu  Vuleni                 3\n",
       "             Vundumu                1\n",
       "             Vyanjasitini           1\n",
       "             Wafugaji[Umasaini]     1\n",
       "             Wagogo                 1\n",
       "             Walambe                1\n",
       "             Walisa                 1\n",
       "             Waya                   1\n",
       "             Wendahi                1\n",
       "             Wisuzaje               1\n",
       "             Yamba                  1\n",
       "             Yangeyange             2\n",
       "             Yavayava               2\n",
       "             Yombo                  5\n",
       "             Zahanati              16\n",
       "             Zahanati 2             1\n",
       "             Zahani                 1\n",
       "             Zaire                  4\n",
       "             Zalala                 1\n",
       "             Zamahe                 1\n",
       "             Zambia                 5\n",
       "             Zegereni               6\n",
       "             Zegero A               4\n",
       "             Zindukeni              1\n",
       "             Ziwajanze              3\n",
       "             Zizini                 3\n",
       "             Zombengalawa           5\n",
       "             Zonwe                  1\n",
       "             Zunga                  1\n",
       "             Zunguni                1\n",
       "Length: 21779, dtype: int64"
      ]
     },
     "execution_count": 22,
     "metadata": {},
     "output_type": "execute_result"
    }
   ],
   "source": [
    "#lets look at basin and subvillage\n",
    "train.groupby(['basin', 'subvillage']).size()\n",
    "#lets drop subvillage, too many uniques, no clear dominance, and basin gives us a broad coverage of the subvillage areas\n",
    "# while the region, district, basin all give us good location information, not to mention longitude and latitude"
   ]
  },
  {
   "cell_type": "code",
   "execution_count": 23,
   "metadata": {},
   "outputs": [
    {
     "data": {
      "text/plain": [
       "wpt_name                   status_group           \n",
       "24                         non functional                1\n",
       "A Kulwa                    non functional                1\n",
       "A Saidi                    functional                    1\n",
       "Abass                      functional                    1\n",
       "Abbas                      functional                    1\n",
       "Abdala Hamisi              functional                    1\n",
       "Abdala Mwandute            non functional                1\n",
       "Abdalaa                    non functional                1\n",
       "Abdalah                    functional                    1\n",
       "                           non functional                2\n",
       "Abdalah Ali                non functional                1\n",
       "Abdalah Mashaka            functional                    1\n",
       "Abdalah Miliki             non functional                1\n",
       "Abdalah Mwakibona          functional                    1\n",
       "Abdalah Shombe             functional                    1\n",
       "Abdalamani Mussa           functional                    1\n",
       "Abdalla Nambambili         functional                    1\n",
       "Abdallah Chingi            non functional                1\n",
       "Abdallah Miwani            functional                    1\n",
       "Abdallah Mponzi            functional                    1\n",
       "Abdallah Nassor Msabaha    functional                    1\n",
       "Abdallah Nassoro           functional                    1\n",
       "Abdi                       functional                    2\n",
       "Abdieri Serakike           functional                    1\n",
       "Abdu                       functional                    1\n",
       "Abdul                      non functional                1\n",
       "Abdul Sharif               functional                    1\n",
       "Abdul Swalehe              functional                    1\n",
       "Abedi Taliwa               non functional                1\n",
       "Abel Mgaya                 functional                    1\n",
       "                                                      ... \n",
       "Zingwa                     functional                    2\n",
       "Zinzilu                    functional                    1\n",
       "Zirombebha                 non functional                1\n",
       "Ziwai                      functional                    1\n",
       "Ziwani                     non functional                3\n",
       "Zizima                     functional                    1\n",
       "Zizimi                     functional                    1\n",
       "Zizini                     functional                    1\n",
       "Zogimlole                  non functional                1\n",
       "Zogoma                     functional needs repair       1\n",
       "Zogowale Primary School 1  functional                    1\n",
       "Zogowale Primary School 2  functional                    1\n",
       "Zolongwa                   functional                    1\n",
       "Zongomela                  non functional                2\n",
       "Zoza                       functional                    1\n",
       "Zuberi                     functional                    2\n",
       "Zugimlole                  functional                    1\n",
       "Zugumlole                  non functional                1\n",
       "Zuieni                     functional                    1\n",
       "Zuleha                     non functional                1\n",
       "Zumba                      functional                    1\n",
       "Zumbawanu                  functional                    1\n",
       "Zumbawanu Shuleni          functional                    1\n",
       "Zungu                      functional                    1\n",
       "Zunguni                    non functional                1\n",
       "Zunzuli A Shuleni          non functional                1\n",
       "Zuwena Kindo               non functional                1\n",
       "none                       functional                 2630\n",
       "                           functional needs repair      76\n",
       "                           non functional              857\n",
       "Length: 40552, dtype: int64"
      ]
     },
     "execution_count": 23,
     "metadata": {},
     "output_type": "execute_result"
    }
   ],
   "source": [
    "#lets look at wpt_name, see how many values there are\n",
    "train.groupby(['wpt_name', 'status_group']).size()"
   ]
  },
  {
   "cell_type": "code",
   "execution_count": 24,
   "metadata": {},
   "outputs": [],
   "source": [
    "#these are very unique values, names of individual water points for each pump, these won't hold much power in my\n",
    "#opinion, it would be unnecessary to try and put this into the model I think, convince me otherwise, I'm feeling sassy\n",
    "#lets drop it "
   ]
  },
  {
   "cell_type": "markdown",
   "metadata": {},
   "source": [
    "# Get Them Out of Here!\n",
    "Redundant or uninformative features are assigned to a variable, unlucky_features, unlucky_features is then dropped from the train data set by using pd.drop(). In order for pd.drop() to work correctly here, we must add axis=1 after our variable in perenthesis, axis=1 means that we are wanting to drop columns whereas axis=0 would be dropping rows. Finally, our \n",
    "inplace=True argument ensures that we are not making a copy of our current data set, but we are instead making changes that will persist over the current data set"
   ]
  },
  {
   "cell_type": "markdown",
   "metadata": {},
   "source": [
    "# Overview of why I dropped these features\n",
    "- id was dropped becuase it is a relatively meaningless ordinal variable\n",
    "- wpt_name was dropped becuase it is highly unique\n",
    "- recorded_by was dropped becuase it was the same value for every data point\n",
    "- waterpoint_type_group was dropped becuase it is redundant\n",
    "- source_type was dropped becuase it is redundant\n",
    "- source_class was dropped becuase it is redundant\n",
    "- quantity_group was dropped becuase it is redundant\n",
    "- quality_group was dropped becuase it is redundant\n",
    "- payment_type was dropped becuase it is redundant\n",
    "- management_group was dropped becuase it is redundant\n",
    "- extraction_type_group was dropped becuase it is redundant\n",
    "- extraction_type_class was dropped becuase it is redundant\n",
    "- region_code was dropped becuase it is redundant\n",
    "- subvillage was dropped becuase it was highly unique and was redundant with respect to location information (we have enough location information)\n",
    "- scheme_management was dropped becuase it is redundant\n",
    "- ward was dropped becuase it is redundant with respect to location information and it was highly unique\n",
    "- num_private was dropped becuase it was missing most of the data\n",
    "- amount_tsh was dropped becuase it was missing most of the data"
   ]
  },
  {
   "cell_type": "code",
   "execution_count": 76,
   "metadata": {},
   "outputs": [
    {
     "data": {
      "text/plain": [
       "Index(['date_recorded', 'funder', 'gps_height', 'installer', 'longitude',\n",
       "       'latitude', 'basin', 'region', 'district_code', 'lga', 'population',\n",
       "       'public_meeting', 'scheme_name', 'permit', 'construction_year',\n",
       "       'extraction_type', 'management', 'payment', 'water_quality', 'quantity',\n",
       "       'source', 'waterpoint_type', 'status_group'],\n",
       "      dtype='object')"
      ]
     },
     "execution_count": 76,
     "metadata": {},
     "output_type": "execute_result"
    }
   ],
   "source": [
    "#store our features that we want to drop inside of a variable\n",
    "unlucky_features = ['id', 'wpt_name', 'recorded_by', 'waterpoint_type_group', 'source_type', \n",
    "                    'source_class', 'quantity_group', 'quality_group', 'payment_type',\n",
    "           'management_group', 'extraction_type_group', 'extraction_type_class', 'region_code', \n",
    "           'subvillage', 'scheme_management', 'ward', 'num_private', 'amount_tsh']\n",
    "\n",
    "#drop our unlucky features\n",
    "train.drop(unlucky_features, axis=1, inplace=True)\n",
    "\n",
    "#check to see if we dropped our features\n",
    "train.columns\n",
    "#looks like it worked"
   ]
  },
  {
   "cell_type": "code",
   "execution_count": 77,
   "metadata": {},
   "outputs": [
    {
     "data": {
      "text/plain": [
       "date_recorded            0\n",
       "funder                3635\n",
       "gps_height               0\n",
       "installer             3655\n",
       "longitude                0\n",
       "latitude                 0\n",
       "basin                    0\n",
       "region                   0\n",
       "district_code            0\n",
       "lga                      0\n",
       "population               0\n",
       "public_meeting        3334\n",
       "scheme_name          28166\n",
       "permit                3056\n",
       "construction_year        0\n",
       "extraction_type          0\n",
       "management               0\n",
       "payment                  0\n",
       "water_quality            0\n",
       "quantity                 0\n",
       "source                   0\n",
       "waterpoint_type          0\n",
       "status_group             0\n",
       "dtype: int64"
      ]
     },
     "execution_count": 77,
     "metadata": {},
     "output_type": "execute_result"
    }
   ],
   "source": [
    "#now lets take a look at our missing values once more\n",
    "train.isna().sum()"
   ]
  },
  {
   "cell_type": "code",
   "execution_count": 27,
   "metadata": {
    "scrolled": false
   },
   "outputs": [
    {
     "name": "stdout",
     "output_type": "stream",
     "text": [
      "<class 'pandas.core.frame.DataFrame'>\n",
      "Int64Index: 59400 entries, 0 to 59399\n",
      "Data columns (total 23 columns):\n",
      "date_recorded        59400 non-null object\n",
      "funder               55765 non-null object\n",
      "gps_height           59400 non-null int64\n",
      "installer            55745 non-null object\n",
      "longitude            59400 non-null float64\n",
      "latitude             59400 non-null float64\n",
      "basin                59400 non-null object\n",
      "region               59400 non-null object\n",
      "district_code        59400 non-null int64\n",
      "lga                  59400 non-null object\n",
      "population           59400 non-null int64\n",
      "public_meeting       56066 non-null object\n",
      "scheme_name          31234 non-null object\n",
      "permit               56344 non-null object\n",
      "construction_year    59400 non-null int64\n",
      "extraction_type      59400 non-null object\n",
      "management           59400 non-null object\n",
      "payment              59400 non-null object\n",
      "water_quality        59400 non-null object\n",
      "quantity             59400 non-null object\n",
      "source               59400 non-null object\n",
      "waterpoint_type      59400 non-null object\n",
      "status_group         59400 non-null object\n",
      "dtypes: float64(2), int64(4), object(17)\n",
      "memory usage: 10.9+ MB\n"
     ]
    }
   ],
   "source": [
    "train.info()"
   ]
  },
  {
   "cell_type": "code",
   "execution_count": 47,
   "metadata": {},
   "outputs": [
    {
     "data": {
      "text/plain": [
       "lga               status_group           \n",
       "Arusha Rural      functional                 875\n",
       "                  functional needs repair     48\n",
       "                  non functional             329\n",
       "Arusha Urban      functional                  42\n",
       "                  functional needs repair      7\n",
       "                  non functional              14\n",
       "Babati            functional                 381\n",
       "                  functional needs repair     53\n",
       "                  non functional              77\n",
       "Bagamoyo          functional                 730\n",
       "                  functional needs repair      2\n",
       "                  non functional             265\n",
       "Bahi              functional                 158\n",
       "                  non functional              66\n",
       "Bariadi           functional                 580\n",
       "                  functional needs repair    409\n",
       "                  non functional             188\n",
       "Biharamulo        functional                 274\n",
       "                  functional needs repair     21\n",
       "                  non functional             108\n",
       "Bukoba Rural      functional                 224\n",
       "                  functional needs repair     97\n",
       "                  non functional             166\n",
       "Bukoba Urban      functional                  46\n",
       "                  functional needs repair     10\n",
       "                  non functional              32\n",
       "Bukombe           functional                 314\n",
       "                  functional needs repair     53\n",
       "                  non functional             147\n",
       "Bunda             functional                 133\n",
       "                                            ... \n",
       "Sumbawanga Urban  functional                  72\n",
       "                  non functional             108\n",
       "Tabora Urban      functional                  54\n",
       "                  non functional             101\n",
       "Tandahimba        functional                  73\n",
       "                  functional needs repair     12\n",
       "                  non functional             181\n",
       "Tanga             functional                  42\n",
       "                  functional needs repair      3\n",
       "                  non functional              54\n",
       "Tarime            functional                 125\n",
       "                  non functional              84\n",
       "Temeke            functional                  76\n",
       "                  functional needs repair      3\n",
       "                  non functional             136\n",
       "Tunduru           functional                 226\n",
       "                  functional needs repair     52\n",
       "                  non functional             145\n",
       "Ukerewe           functional                  91\n",
       "                  functional needs repair     68\n",
       "                  non functional             182\n",
       "Ulanga            functional                 437\n",
       "                  functional needs repair     33\n",
       "                  non functional             195\n",
       "Urambo            functional                 155\n",
       "                  functional needs repair     14\n",
       "                  non functional             213\n",
       "Uyui              functional                 147\n",
       "                  functional needs repair      7\n",
       "                  non functional             185\n",
       "Length: 356, dtype: int64"
      ]
     },
     "execution_count": 47,
     "metadata": {},
     "output_type": "execute_result"
    }
   ],
   "source": [
    "#lga is our next feature, since there are so many categories it wont visualize well, so lets look at a table\n",
    "train.groupby(['lga', 'status_group']).size()"
   ]
  },
  {
   "cell_type": "code",
   "execution_count": 55,
   "metadata": {},
   "outputs": [
    {
     "data": {
      "text/plain": [
       "funder                       installer                \n",
       "0                            0                            777\n",
       "A/co Germany                 TPP TRUSTMOSHI                15\n",
       "Aar                          AAR                            4\n",
       "                             COCANE                        27\n",
       "                             FOLAC                          1\n",
       "Abas Ka                      KASHWA                         1\n",
       "Abasia                       ABASIA                        29\n",
       "                             DWE                           14\n",
       "Abc-ihushi Development Cent  Buguba                         1\n",
       "Abd                          ABD                            1\n",
       "                             DWE                            6\n",
       "Abdala                       ABDALA                         1\n",
       "Abdul                        ABDUL                          1\n",
       "Abood                        Gwaseco                        2\n",
       "Abs                          Orien                          1\n",
       "Aco/germany                  DWE                           13\n",
       "Acord                        ACORD                          3\n",
       "Acord Ngo                    Artisan                        1\n",
       "                             DWE                            1\n",
       "Acra                         ACRA                          46\n",
       "Act                          ACT                            1\n",
       "Act Mara                     ACT MARA                       1\n",
       "Action Aid                   AC                             2\n",
       "                             ACTION AID                     1\n",
       "                             Action Aid                     1\n",
       "                             DWE                            3\n",
       "                             Da                             1\n",
       "Action Contre La Faim        Action Contre La Faim          1\n",
       "                             DWE                            8\n",
       "Action In A                  Artisan                        1\n",
       "                                                         ... \n",
       "Wsdp                         Wachina                       55\n",
       "Wsdp & Sdg                   DWE                            2\n",
       "Wspd                         DWE                            1\n",
       "                             NYAKILANGANI CONSTRUCTION      1\n",
       "Wssp                         DWE                            2\n",
       "                             WSSP                           1\n",
       "Wua                          WU                           112\n",
       "                             WUA                            8\n",
       "                             WUS                            1\n",
       "Wua And Ded                  WU                             2\n",
       "Wug And Ded                  DED                            1\n",
       "Wvc                          VWC                            1\n",
       "                             WVC                            3\n",
       "Wvt                          WVT                          158\n",
       "Wwf                          IDYDC                          1\n",
       "                             Serengeti District concil      1\n",
       "                             WW                             1\n",
       "                             WWF                           23\n",
       "Wwf / Fores                  WWF/                           1\n",
       "Yaole                        DWE                            1\n",
       "Yasi Naini                   DWE                            1\n",
       "Yasini                       Yasini                         1\n",
       "Yasini Selemani              Yasini Selemani                1\n",
       "Zaben                        DWE                            2\n",
       "Zaburi And Neig              Zaburi and neighbors           1\n",
       "Zao                          Zao                            1\n",
       "Zao Water Spring             Zao water spring               3\n",
       "Zao Water Spring X           Zao water spring X             1\n",
       "Zinduka                      ZINDUKA                        1\n",
       "Zingibali Secondary          Zingibali Secondary            1\n",
       "Length: 3697, dtype: int64"
      ]
     },
     "execution_count": 55,
     "metadata": {},
     "output_type": "execute_result"
    }
   ],
   "source": [
    "#now that we have gotten to funder and installer as our next features to explore, I forgot to use them in our \n",
    "#groupby tables to see if we could use one over the other, lets do that now\n",
    "train.groupby(['funder', 'installer']).size()\n",
    "#looks like there are less categories in funder but maybe we should keep them both since the funder will not necessarily\n",
    "#be the installer and the quality of installer does not necessarily speak to the quality of the funder/competence of the\n",
    "#funder and visa versa"
   ]
  },
  {
   "cell_type": "markdown",
   "metadata": {},
   "source": [
    "__We are aggregating these categories so that we can visualize them in relation to the status_group labels, since they seem intuitively important for classification here__"
   ]
  },
  {
   "cell_type": "code",
   "execution_count": 78,
   "metadata": {},
   "outputs": [],
   "source": [
    "#reduce the funder feature into less categories\n",
    "# Create a function to reduce the amount of dummy columns needed whilst maintaining the \n",
    "# information contained in the column.\n",
    "\n",
    "def purple_donkey(row):  \n",
    "    '''Keep top 5 values and set the rest to 'other'''\n",
    "\n",
    "    if row['funder']=='Government Of Tanzania':\n",
    "        return 'gov'\n",
    "    elif row['funder']=='Danida':\n",
    "        return 'danida'\n",
    "    elif row['funder']=='Hesawa':\n",
    "        return 'hesawa'\n",
    "    elif row['funder']=='Rwssp':\n",
    "        return 'rwssp'\n",
    "    elif row['funder']=='World Bank':\n",
    "        return 'world_bank'    \n",
    "    else:\n",
    "        return 'other'\n",
    "    \n",
    "train['funder'] = train.apply(lambda row: purple_donkey(row), axis=1)"
   ]
  },
  {
   "cell_type": "code",
   "execution_count": 79,
   "metadata": {},
   "outputs": [],
   "source": [
    "#reduce the installer feature into less categories\n",
    "# Create a function to reduce the amount of dummy columns needed whilst maintaining the \n",
    "# information contained in the column.\n",
    "\n",
    "def cheese_soup(row):\n",
    "    '''Keep top 5 values and set the rest to 'other'''\n",
    "    if row['installer']=='DWE':\n",
    "        return 'dwe'\n",
    "    elif row['installer']=='Government':\n",
    "        return 'gov'\n",
    "    elif row['installer']=='RWE':\n",
    "        return 'rwe'\n",
    "    elif row['installer']=='Commu':\n",
    "        return 'commu'\n",
    "    elif row['installer']=='DANIDA':\n",
    "        return 'danida'\n",
    "    else:\n",
    "        return 'other'  \n",
    "\n",
    "train['installer'] = train.apply(lambda row: cheese_soup(row), axis=1)"
   ]
  },
  {
   "cell_type": "code",
   "execution_count": 33,
   "metadata": {},
   "outputs": [
    {
     "data": {
      "text/plain": [
       "array(['other', 'rwssp', 'danida', 'hesawa', 'gov', 'world_bank'],\n",
       "      dtype=object)"
      ]
     },
     "execution_count": 33,
     "metadata": {},
     "output_type": "execute_result"
    }
   ],
   "source": [
    "#check to see that it worked\n",
    "train.funder.unique()\n",
    "#yes"
   ]
  },
  {
   "cell_type": "code",
   "execution_count": 59,
   "metadata": {},
   "outputs": [
    {
     "data": {
      "text/plain": [
       "funder      installer\n",
       "danida      commu            8\n",
       "            danida        1046\n",
       "            dwe            626\n",
       "            gov             13\n",
       "            other         1415\n",
       "            rwe              6\n",
       "gov         commu          261\n",
       "            dwe           4254\n",
       "            gov           1607\n",
       "            other         2317\n",
       "            rwe            645\n",
       "hesawa      dwe           1296\n",
       "            gov             11\n",
       "            other          894\n",
       "            rwe              1\n",
       "other       commu          766\n",
       "            danida           4\n",
       "            dwe          10160\n",
       "            gov            125\n",
       "            other        30679\n",
       "            rwe            543\n",
       "rwssp       dwe            914\n",
       "            gov             12\n",
       "            other          448\n",
       "world_bank  commu           25\n",
       "            dwe            152\n",
       "            gov             57\n",
       "            other         1104\n",
       "            rwe             11\n",
       "dtype: int64"
      ]
     },
     "execution_count": 59,
     "metadata": {},
     "output_type": "execute_result"
    }
   ],
   "source": [
    "train.groupby(['funder', 'installer']).size()"
   ]
  },
  {
   "cell_type": "code",
   "execution_count": 64,
   "metadata": {},
   "outputs": [
    {
     "data": {
      "text/plain": [
       "date_recorded            0\n",
       "funder                   0\n",
       "gps_height               0\n",
       "installer                0\n",
       "longitude                0\n",
       "latitude                 0\n",
       "basin                    0\n",
       "region                   0\n",
       "district_code            0\n",
       "lga                      0\n",
       "population               0\n",
       "public_meeting        3334\n",
       "scheme_name          28166\n",
       "permit                3056\n",
       "construction_year        0\n",
       "extraction_type          0\n",
       "management               0\n",
       "payment                  0\n",
       "water_quality            0\n",
       "quantity                 0\n",
       "source                   0\n",
       "waterpoint_type          0\n",
       "status_group             0\n",
       "dtype: int64"
      ]
     },
     "execution_count": 64,
     "metadata": {},
     "output_type": "execute_result"
    }
   ],
   "source": [
    "#lets look at the nans, we should probably code the missing nans within public meeting and permit \n",
    "train.isna().sum()"
   ]
  },
  {
   "cell_type": "markdown",
   "metadata": {},
   "source": [
    "__We need to replace the NAs in these columns below with a value \"unknown\" becuase we cannot remove rows in the new prediction data (when submitting this model to the competition, we are not allowed to remove rows)__"
   ]
  },
  {
   "cell_type": "code",
   "execution_count": 80,
   "metadata": {},
   "outputs": [],
   "source": [
    "#lets replace scheme_name, permit and public meeting nans with 'unknown'\n",
    "train['permit'].replace(np.nan, 'Unknown', inplace=True)\n",
    "train['public_meeting'].replace(np.nan, 'Unknown', inplace=True)\n",
    "train['scheme_name'].replace(np.nan, 'Unknown', inplace=True)"
   ]
  },
  {
   "cell_type": "code",
   "execution_count": 81,
   "metadata": {},
   "outputs": [
    {
     "data": {
      "text/plain": [
       "date_recorded        0\n",
       "funder               0\n",
       "gps_height           0\n",
       "installer            0\n",
       "longitude            0\n",
       "latitude             0\n",
       "basin                0\n",
       "region               0\n",
       "district_code        0\n",
       "lga                  0\n",
       "population           0\n",
       "public_meeting       0\n",
       "scheme_name          0\n",
       "permit               0\n",
       "construction_year    0\n",
       "extraction_type      0\n",
       "management           0\n",
       "payment              0\n",
       "water_quality        0\n",
       "quantity             0\n",
       "source               0\n",
       "waterpoint_type      0\n",
       "status_group         0\n",
       "dtype: int64"
      ]
     },
     "execution_count": 81,
     "metadata": {},
     "output_type": "execute_result"
    },
    {
     "data": {
      "text/plain": [
       "array([False, True, 'Unknown'], dtype=object)"
      ]
     },
     "execution_count": 81,
     "metadata": {},
     "output_type": "execute_result"
    },
    {
     "data": {
      "text/plain": [
       "array([True, 'Unknown', False], dtype=object)"
      ]
     },
     "execution_count": 81,
     "metadata": {},
     "output_type": "execute_result"
    },
    {
     "data": {
      "text/plain": [
       "array(['Roman', 'Unknown', 'Nyumba ya mungu pipe scheme', ...,\n",
       "       'BL Nsherehehe', 'Magati  gravity spri', 'Mtawanya'], dtype=object)"
      ]
     },
     "execution_count": 81,
     "metadata": {},
     "output_type": "execute_result"
    }
   ],
   "source": [
    "#make sure that it worked\n",
    "train.isna().sum()\n",
    "train['permit'].unique()\n",
    "train['public_meeting'].unique()\n",
    "train['scheme_name'].unique()"
   ]
  },
  {
   "cell_type": "markdown",
   "metadata": {},
   "source": [
    "# Numeric Data Cleaning"
   ]
  },
  {
   "cell_type": "code",
   "execution_count": 67,
   "metadata": {
    "scrolled": false
   },
   "outputs": [
    {
     "data": {
      "text/plain": [
       "date_recorded        0\n",
       "funder               0\n",
       "gps_height           0\n",
       "installer            0\n",
       "longitude            0\n",
       "latitude             0\n",
       "basin                0\n",
       "region               0\n",
       "district_code        0\n",
       "lga                  0\n",
       "population           0\n",
       "public_meeting       0\n",
       "scheme_name          0\n",
       "permit               0\n",
       "construction_year    0\n",
       "extraction_type      0\n",
       "management           0\n",
       "payment              0\n",
       "water_quality        0\n",
       "quantity             0\n",
       "source               0\n",
       "waterpoint_type      0\n",
       "status_group         0\n",
       "dtype: int64"
      ]
     },
     "execution_count": 67,
     "metadata": {},
     "output_type": "execute_result"
    },
    {
     "data": {
      "text/plain": [
       "date_recorded            0\n",
       "funder                   0\n",
       "gps_height           20438\n",
       "installer                0\n",
       "longitude             1812\n",
       "latitude                 0\n",
       "basin                    0\n",
       "region                   0\n",
       "district_code           23\n",
       "lga                      0\n",
       "population           21381\n",
       "public_meeting        5055\n",
       "scheme_name              0\n",
       "permit               17492\n",
       "construction_year    20709\n",
       "extraction_type          0\n",
       "management               0\n",
       "payment                  0\n",
       "water_quality            0\n",
       "quantity                 0\n",
       "source                   0\n",
       "waterpoint_type          0\n",
       "status_group             0\n",
       "dtype: int64"
      ]
     },
     "execution_count": 67,
     "metadata": {},
     "output_type": "execute_result"
    }
   ],
   "source": [
    "#lets look at our remaining missing values, we need to consider how to treat these\n",
    "train.isna().sum()\n",
    "train[train==0].count()"
   ]
  },
  {
   "cell_type": "markdown",
   "metadata": {},
   "source": [
    "We could choose to impute the overall mean or median for these values, since I ran the model once with the means and the medians, I know that the medians for all three of these work better than the means. In addition, there is a much more precise way of imputing rather than using one value for every missing value. We will begin by looking at our four categorical variables that are currently missing data, gps_height, longitude, population, and construction_year, grouped by their median values. "
   ]
  },
  {
   "cell_type": "code",
   "execution_count": 68,
   "metadata": {},
   "outputs": [
    {
     "data": {
      "text/plain": [
       "district_code\n",
       "0       0.0\n",
       "1       5.0\n",
       "2     100.0\n",
       "3      50.0\n",
       "4      30.0\n",
       "5      50.0\n",
       "6       0.0\n",
       "7       1.0\n",
       "8       0.0\n",
       "13    300.0\n",
       "23     24.0\n",
       "30      0.0\n",
       "33      1.0\n",
       "43    350.0\n",
       "53      1.0\n",
       "60     35.0\n",
       "62    400.0\n",
       "63     86.0\n",
       "67     15.5\n",
       "80      0.0\n",
       "Name: population, dtype: float64"
      ]
     },
     "execution_count": 68,
     "metadata": {},
     "output_type": "execute_result"
    },
    {
     "data": {
      "text/plain": [
       "district_code\n",
       "0        0.0\n",
       "1      518.0\n",
       "2     1019.0\n",
       "3      306.0\n",
       "4      905.0\n",
       "5      698.0\n",
       "6        0.0\n",
       "7     1015.0\n",
       "8        0.0\n",
       "13      33.0\n",
       "23      91.0\n",
       "30       0.0\n",
       "33     348.5\n",
       "43      61.0\n",
       "53     112.0\n",
       "60     -18.0\n",
       "62      13.0\n",
       "63     310.0\n",
       "67     -26.0\n",
       "80       0.0\n",
       "Name: gps_height, dtype: float64"
      ]
     },
     "execution_count": 68,
     "metadata": {},
     "output_type": "execute_result"
    },
    {
     "data": {
      "text/plain": [
       "district_code\n",
       "0        0\n",
       "1     1990\n",
       "2     1990\n",
       "3     1985\n",
       "4     1982\n",
       "5     1988\n",
       "6        0\n",
       "7     1984\n",
       "8        0\n",
       "13    1997\n",
       "23    2008\n",
       "30       0\n",
       "33    1989\n",
       "43    2006\n",
       "53    2003\n",
       "60       0\n",
       "62    1999\n",
       "63    1986\n",
       "67       0\n",
       "80       0\n",
       "Name: construction_year, dtype: int64"
      ]
     },
     "execution_count": 68,
     "metadata": {},
     "output_type": "execute_result"
    },
    {
     "data": {
      "text/plain": [
       "district_code\n",
       "0     36.700402\n",
       "1     35.533367\n",
       "2     34.774940\n",
       "3     34.179510\n",
       "4     34.712542\n",
       "5     35.784020\n",
       "6     34.153484\n",
       "7     36.105420\n",
       "8     33.562773\n",
       "13    39.185480\n",
       "23    39.448954\n",
       "30    30.710775\n",
       "33    39.046767\n",
       "43    39.129413\n",
       "53    38.958142\n",
       "60    39.666581\n",
       "62    39.593148\n",
       "63    38.507951\n",
       "67    39.740539\n",
       "80    34.020668\n",
       "Name: longitude, dtype: float64"
      ]
     },
     "execution_count": 68,
     "metadata": {},
     "output_type": "execute_result"
    }
   ],
   "source": [
    "pop_medians = train['population'].groupby(train['district_code'])\n",
    "gps_medians = train['gps_height'].groupby(train['district_code'])\n",
    "year_medians = train['construction_year'].groupby(train['district_code'])\n",
    "long_medians = train['longitude'].groupby(train['district_code'])\n",
    "pop_medians.median()\n",
    "gps_medians.median()\n",
    "year_medians.median()\n",
    "long_medians.median()\n",
    "# tsh_medians = train['amount_tsh'].groupby(train['district_code'])\n",
    "# tsh_medians.median()"
   ]
  },
  {
   "cell_type": "markdown",
   "metadata": {},
   "source": [
    "# Imputing Missing Data\n",
    "The cell below imputes the medians of our population, gps_height, and construction_year through a groupby() methodology. We are essentially using the means of these columns, organized by district_code, to impute the missing values. Since we have missing values left over after that, due to district_code having missing values in itself, we will replace the remaining missing values with the overall median of the feature. I ran this model several different times with the numeric features filled in with the mean, median, and several log transformations. We are trying to normalize the data using log transformations. After looking at model performance across these various test runs, it became apparent that only taking the log of population was necessary, and that all imputations should be median rather than mean\n",
    "- the code for the median imputation works by initially grouping the means of district_code by population\n",
    "- once those means are identified, a function is created using lambda to transform the column\n",
    "\n",
    "We are also replacing the populations of 1 in our popultaion feature, this was an intuitive decision, there are probably not any people that live alone in the wilderness that have pumps installed by funding groups for them, just a thought, and the model performed better when we imputed for 1 and 0 population values"
   ]
  },
  {
   "cell_type": "code",
   "execution_count": 82,
   "metadata": {
    "scrolled": true
   },
   "outputs": [],
   "source": [
    "train['population'] = train.groupby('district_code').population.transform(lambda x: x.replace(0, x.median()))\n",
    "train['population'] = train.groupby('district_code').population.transform(lambda x: x.replace(1, x.median()))\n",
    "train['population'].replace(0, np.median(train['population']), inplace=True)\n",
    "train['population'] = np.log(train['population'])\n",
    "\n",
    "\n",
    "#log skewed the distribution of this data left\n",
    "train['gps_height'] = train.groupby('district_code').gps_height.transform(lambda x: x.replace(0, x.median()))\n",
    "train['gps_height'].replace(0, np.median(train['gps_height']), inplace=True)\n",
    "\n",
    "#log didn't make sense here, we would have had to transform the latitude as well and the dist. weren't different\n",
    "train['longitude'] = train.groupby('district_code').longitude.transform(lambda x: x.replace(0, x.median()))\n",
    "train['longitude'].replace(0, np.median(train['longitude']), inplace=True)\n",
    "\n",
    "#the log of this is weird, don't need to transform\n",
    "train['construction_year'] = train.groupby('district_code').construction_year.transform(lambda x: x.replace(0, x.median()))\n",
    "train['construction_year'].replace(0, np.median(train['construction_year']), inplace=True)\n",
    "\n",
    "# train['amount_tsh'] = train.groupby('district_code').amount_tsh.transform(lambda x: x.replace(0, x.mean()))\n",
    "# train['amount_tsh'].replace(0, np.mean(train['amount_tsh']), inplace=True)"
   ]
  },
  {
   "cell_type": "markdown",
   "metadata": {},
   "source": [
    "We need to check to see if the data was imputed properly, indeed it was! Groovy"
   ]
  },
  {
   "cell_type": "code",
   "execution_count": 142,
   "metadata": {},
   "outputs": [
    {
     "data": {
      "text/html": [
       "<div>\n",
       "<style scoped>\n",
       "    .dataframe tbody tr th:only-of-type {\n",
       "        vertical-align: middle;\n",
       "    }\n",
       "\n",
       "    .dataframe tbody tr th {\n",
       "        vertical-align: top;\n",
       "    }\n",
       "\n",
       "    .dataframe thead th {\n",
       "        text-align: right;\n",
       "    }\n",
       "</style>\n",
       "<table border=\"1\" class=\"dataframe\">\n",
       "  <thead>\n",
       "    <tr style=\"text-align: right;\">\n",
       "      <th></th>\n",
       "      <th>date_recorded</th>\n",
       "      <th>funder</th>\n",
       "      <th>gps_height</th>\n",
       "      <th>installer</th>\n",
       "      <th>longitude</th>\n",
       "      <th>latitude</th>\n",
       "      <th>basin</th>\n",
       "      <th>region</th>\n",
       "      <th>district_code</th>\n",
       "      <th>lga</th>\n",
       "      <th>population</th>\n",
       "      <th>public_meeting</th>\n",
       "      <th>scheme_name</th>\n",
       "      <th>permit</th>\n",
       "      <th>construction_year</th>\n",
       "      <th>extraction_type</th>\n",
       "      <th>management</th>\n",
       "      <th>payment</th>\n",
       "      <th>water_quality</th>\n",
       "      <th>quantity</th>\n",
       "      <th>source</th>\n",
       "      <th>waterpoint_type</th>\n",
       "      <th>status_group</th>\n",
       "    </tr>\n",
       "  </thead>\n",
       "  <tbody>\n",
       "    <tr>\n",
       "      <th>0</th>\n",
       "      <td>3/14/2011</td>\n",
       "      <td>other</td>\n",
       "      <td>1390</td>\n",
       "      <td>other</td>\n",
       "      <td>34.938093</td>\n",
       "      <td>-9.856322</td>\n",
       "      <td>Lake Nyasa</td>\n",
       "      <td>Iringa</td>\n",
       "      <td>5</td>\n",
       "      <td>Ludewa</td>\n",
       "      <td>4.691348</td>\n",
       "      <td>True</td>\n",
       "      <td>Roman</td>\n",
       "      <td>False</td>\n",
       "      <td>1999</td>\n",
       "      <td>gravity</td>\n",
       "      <td>vwc</td>\n",
       "      <td>pay annually</td>\n",
       "      <td>soft</td>\n",
       "      <td>enough</td>\n",
       "      <td>spring</td>\n",
       "      <td>communal standpipe</td>\n",
       "      <td>functional</td>\n",
       "    </tr>\n",
       "    <tr>\n",
       "      <th>1</th>\n",
       "      <td>3/6/2013</td>\n",
       "      <td>other</td>\n",
       "      <td>1399</td>\n",
       "      <td>other</td>\n",
       "      <td>34.698766</td>\n",
       "      <td>-2.147466</td>\n",
       "      <td>Lake Victoria</td>\n",
       "      <td>Mara</td>\n",
       "      <td>2</td>\n",
       "      <td>Serengeti</td>\n",
       "      <td>5.634790</td>\n",
       "      <td>Unknown</td>\n",
       "      <td>Unknown</td>\n",
       "      <td>True</td>\n",
       "      <td>2010</td>\n",
       "      <td>gravity</td>\n",
       "      <td>wug</td>\n",
       "      <td>never pay</td>\n",
       "      <td>soft</td>\n",
       "      <td>insufficient</td>\n",
       "      <td>rainwater harvesting</td>\n",
       "      <td>communal standpipe</td>\n",
       "      <td>functional</td>\n",
       "    </tr>\n",
       "    <tr>\n",
       "      <th>2</th>\n",
       "      <td>2/25/2013</td>\n",
       "      <td>other</td>\n",
       "      <td>686</td>\n",
       "      <td>other</td>\n",
       "      <td>37.460664</td>\n",
       "      <td>-3.821329</td>\n",
       "      <td>Pangani</td>\n",
       "      <td>Manyara</td>\n",
       "      <td>4</td>\n",
       "      <td>Simanjiro</td>\n",
       "      <td>5.521461</td>\n",
       "      <td>True</td>\n",
       "      <td>Nyumba ya mungu pipe scheme</td>\n",
       "      <td>True</td>\n",
       "      <td>2009</td>\n",
       "      <td>gravity</td>\n",
       "      <td>vwc</td>\n",
       "      <td>pay per bucket</td>\n",
       "      <td>soft</td>\n",
       "      <td>enough</td>\n",
       "      <td>dam</td>\n",
       "      <td>communal standpipe multiple</td>\n",
       "      <td>functional</td>\n",
       "    </tr>\n",
       "    <tr>\n",
       "      <th>3</th>\n",
       "      <td>1/28/2013</td>\n",
       "      <td>other</td>\n",
       "      <td>263</td>\n",
       "      <td>other</td>\n",
       "      <td>38.486161</td>\n",
       "      <td>-11.155298</td>\n",
       "      <td>Ruvuma / Southern Coast</td>\n",
       "      <td>Mtwara</td>\n",
       "      <td>63</td>\n",
       "      <td>Nanyumbu</td>\n",
       "      <td>4.060443</td>\n",
       "      <td>True</td>\n",
       "      <td>Unknown</td>\n",
       "      <td>True</td>\n",
       "      <td>1986</td>\n",
       "      <td>submersible</td>\n",
       "      <td>vwc</td>\n",
       "      <td>never pay</td>\n",
       "      <td>soft</td>\n",
       "      <td>dry</td>\n",
       "      <td>machine dbh</td>\n",
       "      <td>communal standpipe multiple</td>\n",
       "      <td>non functional</td>\n",
       "    </tr>\n",
       "    <tr>\n",
       "      <th>4</th>\n",
       "      <td>7/13/2011</td>\n",
       "      <td>other</td>\n",
       "      <td>518</td>\n",
       "      <td>other</td>\n",
       "      <td>31.130847</td>\n",
       "      <td>-1.825359</td>\n",
       "      <td>Lake Victoria</td>\n",
       "      <td>Kagera</td>\n",
       "      <td>1</td>\n",
       "      <td>Karagwe</td>\n",
       "      <td>1.609438</td>\n",
       "      <td>True</td>\n",
       "      <td>Unknown</td>\n",
       "      <td>True</td>\n",
       "      <td>1990</td>\n",
       "      <td>gravity</td>\n",
       "      <td>other</td>\n",
       "      <td>never pay</td>\n",
       "      <td>soft</td>\n",
       "      <td>seasonal</td>\n",
       "      <td>rainwater harvesting</td>\n",
       "      <td>communal standpipe</td>\n",
       "      <td>functional</td>\n",
       "    </tr>\n",
       "  </tbody>\n",
       "</table>\n",
       "</div>"
      ],
      "text/plain": [
       "  date_recorded funder  gps_height installer  longitude   latitude  \\\n",
       "0     3/14/2011  other        1390     other  34.938093  -9.856322   \n",
       "1      3/6/2013  other        1399     other  34.698766  -2.147466   \n",
       "2     2/25/2013  other         686     other  37.460664  -3.821329   \n",
       "3     1/28/2013  other         263     other  38.486161 -11.155298   \n",
       "4     7/13/2011  other         518     other  31.130847  -1.825359   \n",
       "\n",
       "                     basin   region  district_code        lga  population  \\\n",
       "0               Lake Nyasa   Iringa              5     Ludewa    4.691348   \n",
       "1            Lake Victoria     Mara              2  Serengeti    5.634790   \n",
       "2                  Pangani  Manyara              4  Simanjiro    5.521461   \n",
       "3  Ruvuma / Southern Coast   Mtwara             63   Nanyumbu    4.060443   \n",
       "4            Lake Victoria   Kagera              1    Karagwe    1.609438   \n",
       "\n",
       "  public_meeting                  scheme_name permit  construction_year  \\\n",
       "0           True                        Roman  False               1999   \n",
       "1        Unknown                      Unknown   True               2010   \n",
       "2           True  Nyumba ya mungu pipe scheme   True               2009   \n",
       "3           True                      Unknown   True               1986   \n",
       "4           True                      Unknown   True               1990   \n",
       "\n",
       "  extraction_type management         payment water_quality      quantity  \\\n",
       "0         gravity        vwc    pay annually          soft        enough   \n",
       "1         gravity        wug       never pay          soft  insufficient   \n",
       "2         gravity        vwc  pay per bucket          soft        enough   \n",
       "3     submersible        vwc       never pay          soft           dry   \n",
       "4         gravity      other       never pay          soft      seasonal   \n",
       "\n",
       "                 source              waterpoint_type    status_group  \n",
       "0                spring           communal standpipe      functional  \n",
       "1  rainwater harvesting           communal standpipe      functional  \n",
       "2                   dam  communal standpipe multiple      functional  \n",
       "3           machine dbh  communal standpipe multiple  non functional  \n",
       "4  rainwater harvesting           communal standpipe      functional  "
      ]
     },
     "execution_count": 142,
     "metadata": {},
     "output_type": "execute_result"
    }
   ],
   "source": [
    "train.head()"
   ]
  },
  {
   "cell_type": "markdown",
   "metadata": {},
   "source": [
    "# Shape New Prediction Data"
   ]
  },
  {
   "cell_type": "markdown",
   "metadata": {},
   "source": [
    "__We now have to shape our prediction data (the dataset that our model will be evaluated on for any competition entry) in the same exact ways that we shaped our training data, everything fom this point forward until our modeling will be the same process that we stepped through for the training data__"
   ]
  },
  {
   "cell_type": "code",
   "execution_count": 10,
   "metadata": {},
   "outputs": [],
   "source": [
    "#tried this model with and without amount_tsh\n",
    "test.drop(['id', 'recorded_by', 'num_private', 'waterpoint_type_group', 'source_type', 'source_class', \n",
    "           'quantity_group', 'quality_group', 'payment_type',\n",
    "           'management_group', 'extraction_type_group', 'extraction_type_class', 'region_code', \n",
    "          'subvillage', 'scheme_management', 'wpt_name', 'ward', 'amount_tsh'], axis=1, inplace=True)"
   ]
  },
  {
   "cell_type": "code",
   "execution_count": 88,
   "metadata": {
    "scrolled": false
   },
   "outputs": [
    {
     "name": "stdout",
     "output_type": "stream",
     "text": [
      "<class 'pandas.core.frame.DataFrame'>\n",
      "RangeIndex: 14850 entries, 0 to 14849\n",
      "Data columns (total 22 columns):\n",
      "date_recorded        14850 non-null object\n",
      "funder               13981 non-null object\n",
      "gps_height           14850 non-null int64\n",
      "installer            13973 non-null object\n",
      "longitude            14850 non-null float64\n",
      "latitude             14850 non-null float64\n",
      "basin                14850 non-null object\n",
      "region               14850 non-null object\n",
      "district_code        14850 non-null int64\n",
      "lga                  14850 non-null object\n",
      "population           14850 non-null int64\n",
      "public_meeting       14029 non-null object\n",
      "scheme_name          7758 non-null object\n",
      "permit               14113 non-null object\n",
      "construction_year    14850 non-null int64\n",
      "extraction_type      14850 non-null object\n",
      "management           14850 non-null object\n",
      "payment              14850 non-null object\n",
      "water_quality        14850 non-null object\n",
      "quantity             14850 non-null object\n",
      "source               14850 non-null object\n",
      "waterpoint_type      14850 non-null object\n",
      "dtypes: float64(2), int64(4), object(16)\n",
      "memory usage: 2.5+ MB\n"
     ]
    }
   ],
   "source": [
    "test.info()"
   ]
  },
  {
   "cell_type": "code",
   "execution_count": 84,
   "metadata": {},
   "outputs": [],
   "source": [
    "#reduce the funder feature into less categories\n",
    "# Use our previous function \n",
    "test['funder'] = train.apply(lambda row: purple_donkey(row), axis=1)"
   ]
  },
  {
   "cell_type": "code",
   "execution_count": 85,
   "metadata": {},
   "outputs": [],
   "source": [
    "#reduce the installer feature into less categories\n",
    "# Use our previous function \n",
    "test['installer'] = train.apply(lambda row: cheese_soup(row), axis=1)"
   ]
  },
  {
   "cell_type": "markdown",
   "metadata": {},
   "source": [
    "**replace nas with unknown in these**"
   ]
  },
  {
   "cell_type": "code",
   "execution_count": 13,
   "metadata": {},
   "outputs": [],
   "source": [
    "#lets replace scheme_name, permit and public meeting nans with 'unknown'\n",
    "test['permit'].replace(np.nan, 'Unknown', inplace=True)\n",
    "test['public_meeting'].replace(np.nan, 'Unknown', inplace=True)\n",
    "test['scheme_name'].replace(np.nan, 'Unknown', inplace=True)"
   ]
  },
  {
   "cell_type": "code",
   "execution_count": 14,
   "metadata": {},
   "outputs": [
    {
     "data": {
      "text/plain": [
       "date_recorded        0\n",
       "funder               0\n",
       "gps_height           0\n",
       "installer            0\n",
       "longitude            0\n",
       "latitude             0\n",
       "basin                0\n",
       "region               0\n",
       "district_code        0\n",
       "lga                  0\n",
       "population           0\n",
       "public_meeting       0\n",
       "scheme_name          0\n",
       "permit               0\n",
       "construction_year    0\n",
       "extraction_type      0\n",
       "management           0\n",
       "payment              0\n",
       "water_quality        0\n",
       "quantity             0\n",
       "source               0\n",
       "waterpoint_type      0\n",
       "dtype: int64"
      ]
     },
     "execution_count": 14,
     "metadata": {},
     "output_type": "execute_result"
    }
   ],
   "source": [
    "test.isna().sum()"
   ]
  },
  {
   "cell_type": "markdown",
   "metadata": {},
   "source": [
    "__Same as training set for numeric features that we are keeping__"
   ]
  },
  {
   "cell_type": "code",
   "execution_count": 15,
   "metadata": {},
   "outputs": [],
   "source": [
    "test['population'] = test.groupby('district_code').population.transform(lambda x: x.replace(0, x.median()))\n",
    "test['population'].replace(0, np.mean(test['population']), inplace=True)\n",
    "test['population'] = np.log(test['population'])\n",
    "\n",
    "test['gps_height'] = test.groupby('district_code').gps_height.transform(lambda x: x.replace(0, x.median()))\n",
    "test['gps_height'].replace(0, np.median(test['gps_height']), inplace=True)\n",
    "\n",
    "test['longitude'] = test.groupby('district_code').longitude.transform(lambda x: x.replace(0, x.median()))\n",
    "test['longitude'].replace(0, np.median(test['longitude']), inplace=True)\n",
    "\n",
    "test['construction_year'] = test.groupby('district_code').construction_year.transform(lambda x: x.replace(0, x.median()))\n",
    "test['construction_year'].replace(0, np.median(test['construction_year']), inplace=True)\n",
    "\n",
    "# test['amount_tsh'] = test.groupby('district_code').amount_tsh.transform(lambda x: x.replace(0, x.mean()))\n",
    "# test['amount_tsh'].replace(0, np.mean(test['amount_tsh']), inplace=True)"
   ]
  },
  {
   "cell_type": "markdown",
   "metadata": {},
   "source": [
    "__Our training set should have only one more column than our test \"predictions\" set, the label column__"
   ]
  },
  {
   "cell_type": "code",
   "execution_count": 16,
   "metadata": {},
   "outputs": [
    {
     "data": {
      "text/plain": [
       "(14850, 22)"
      ]
     },
     "execution_count": 16,
     "metadata": {},
     "output_type": "execute_result"
    },
    {
     "data": {
      "text/plain": [
       "(59400, 23)"
      ]
     },
     "execution_count": 16,
     "metadata": {},
     "output_type": "execute_result"
    }
   ],
   "source": [
    "test.shape\n",
    "train.shape"
   ]
  }
 ],
 "metadata": {
  "kernelspec": {
   "display_name": "Python 3",
   "language": "python",
   "name": "python3"
  },
  "language_info": {
   "codemirror_mode": {
    "name": "ipython",
    "version": 3
   },
   "file_extension": ".py",
   "mimetype": "text/x-python",
   "name": "python",
   "nbconvert_exporter": "python",
   "pygments_lexer": "ipython3",
   "version": "3.7.1"
  }
 },
 "nbformat": 4,
 "nbformat_minor": 2
}
